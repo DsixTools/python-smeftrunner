{
 "cells": [
  {
   "cell_type": "code",
   "execution_count": null,
   "metadata": {
    "collapsed": true
   },
   "outputs": [],
   "source": [
    "#c.c. = complex conjugate\n",
    "#i = I*iCPV in mathematica = 1j in python\n",
    "#coefficient not equal by manual and mathematica code? I believe the code then. "
   ]
  },
  {
   "cell_type": "code",
   "execution_count": 3,
   "metadata": {
    "collapsed": false
   },
   "outputs": [
    {
     "data": {
      "text/plain": [
       "array([[108, 111, 114],\n",
       "       [117, 120, 123],\n",
       "       [126, 129, 132]])"
      ]
     },
     "execution_count": 3,
     "metadata": {},
     "output_type": "execute_result"
    }
   ],
   "source": [
    "#einsum & function for 4d-tensor\n",
    "import numpy as np\n",
    "x = np.arange(81)\n",
    "WC = x.reshape((3, 3, 3, 3))\n",
    "#y = np.arange(9)\n",
    "#G = y.reshape((3,3))\n",
    "G = np.matrix('1 2 3; 4 5 6; 7 8 9')\n",
    "\n",
    "#np.einsum(\"rpts,pt\", WC,G)\n",
    "#np.einsum(\"rstt\", WC)\n",
    "np.trace(WC)"
   ]
  },
  {
   "cell_type": "code",
   "execution_count": 21,
   "metadata": {
    "collapsed": false
   },
   "outputs": [
    {
     "data": {
      "text/plain": [
       "matrix([[ 1.-1.j,  2.-2.j,  3.-3.j],\n",
       "        [ 4.-4.j,  5.-5.j,  6.-6.j],\n",
       "        [ 7.-7.j,  8.-8.j,  9.-9.j]])"
      ]
     },
     "execution_count": 21,
     "metadata": {},
     "output_type": "execute_result"
    }
   ],
   "source": [
    "#conj\n",
    "import numpy as np\n",
    "G = np.matrix('1 2 3; 4 5 6; 7 8 9')\n",
    "G = G+1j*G\n",
    "np.conj(G)"
   ]
  },
  {
   "cell_type": "code",
   "execution_count": 21,
   "metadata": {
    "collapsed": false
   },
   "outputs": [
    {
     "data": {
      "text/plain": [
       "array([[ 0.,  0.,  0.],\n",
       "       [ 0.,  4.,  0.],\n",
       "       [ 0.,  0.,  8.]])"
      ]
     },
     "execution_count": 21,
     "metadata": {},
     "output_type": "execute_result"
    }
   ],
   "source": [
    "#kronecker delta for 2d-tensor\n",
    "import numpy as np\n",
    "x = np.arange(9)\n",
    "x = x.reshape((3,3))\n",
    "y = np.identity(3)\n",
    "np.multiply(x,y)"
   ]
  }
 ],
 "metadata": {
  "kernelspec": {
   "display_name": "Python 3",
   "language": "python",
   "name": "python3"
  },
  "language_info": {
   "codemirror_mode": {
    "name": "ipython",
    "version": 3
   },
   "file_extension": ".py",
   "mimetype": "text/x-python",
   "name": "python",
   "nbconvert_exporter": "python",
   "pygments_lexer": "ipython3",
   "version": "3.6.0"
  }
 },
 "nbformat": 4,
 "nbformat_minor": 2
}
