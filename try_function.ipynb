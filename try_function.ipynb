{
 "cells": [
  {
   "cell_type": "code",
   "execution_count": null,
   "metadata": {
    "collapsed": true
   },
   "outputs": [],
   "source": [
    "#c.c. = complex conjugate\n",
    "#i = I*iCPV in mathematica = 1j in python\n",
    "#coefficient not equal by manual and mathematica code? I believe the code then. "
   ]
  },
  {
   "cell_type": "code",
   "execution_count": 3,
   "metadata": {
    "collapsed": false
   },
   "outputs": [
    {
     "data": {
      "text/plain": [
       "array([[1, 2, 3],\n",
       "       [4, 5, 6],\n",
       "       [7, 8, 9]])"
      ]
     },
     "execution_count": 3,
     "metadata": {},
     "output_type": "execute_result"
    }
   ],
   "source": [
    "#einsum & function for 4d-tensor\n",
    "import numpy as np\n",
    "x = np.arange(81)\n",
    "WC = x.reshape((3, 3, 3, 3))\n",
    "y = np.arange(9)\n",
    "G2 = y.reshape((3,3))\n",
    "G = np.matrix('1 2 3; 4 5 6; 7 8 9')\n",
    "\n",
    "#np.einsum(\"rpts,pt\", WC,G)\n",
    "#np.einsum(\"rstt\", WC)\n",
    "#np.trace(WC)\n",
    "#np.einsum(\"sv,tw,prvw\", G, G2, WC)\n",
    "np.einsum(\"prts\", WC)\n",
    "np.einsum(\"pt\", G)   #...why?"
   ]
  },
  {
   "cell_type": "code",
   "execution_count": 6,
   "metadata": {
    "collapsed": false
   },
   "outputs": [
    {
     "data": {
      "text/plain": [
       "array([[[[ 0.,  0.,  0.],\n",
       "         [ 1.,  0.,  0.],\n",
       "         [ 2.,  0.,  0.]],\n",
       "\n",
       "        [[ 3.,  0.,  0.],\n",
       "         [ 4.,  0.,  0.],\n",
       "         [ 5.,  0.,  0.]],\n",
       "\n",
       "        [[ 6.,  0.,  0.],\n",
       "         [ 7.,  0.,  0.],\n",
       "         [ 8.,  0.,  0.]]],\n",
       "\n",
       "\n",
       "       [[[ 0.,  0.,  0.],\n",
       "         [ 0.,  1.,  0.],\n",
       "         [ 0.,  2.,  0.]],\n",
       "\n",
       "        [[ 0.,  3.,  0.],\n",
       "         [ 0.,  4.,  0.],\n",
       "         [ 0.,  5.,  0.]],\n",
       "\n",
       "        [[ 0.,  6.,  0.],\n",
       "         [ 0.,  7.,  0.],\n",
       "         [ 0.,  8.,  0.]]],\n",
       "\n",
       "\n",
       "       [[[ 0.,  0.,  0.],\n",
       "         [ 0.,  0.,  1.],\n",
       "         [ 0.,  0.,  2.]],\n",
       "\n",
       "        [[ 0.,  0.,  3.],\n",
       "         [ 0.,  0.,  4.],\n",
       "         [ 0.,  0.,  5.]],\n",
       "\n",
       "        [[ 0.,  0.,  6.],\n",
       "         [ 0.,  0.,  7.],\n",
       "         [ 0.,  0.,  8.]]]])"
      ]
     },
     "execution_count": 6,
     "metadata": {},
     "output_type": "execute_result"
    }
   ],
   "source": [
    "#4d/2d*2d delta\n",
    "import numpy as np\n",
    "I3 = np.identity(3)\n",
    "x = np.arange(81)\n",
    "WC = x.reshape((3, 3, 3, 3))\n",
    "y = np.arange(9)\n",
    "G = y.reshape((3,3))\n",
    "\n",
    "np.einsum(\"rs,pt\", G, I3)\n",
    "#np.einsum(\"prww,st\", WC, I3)"
   ]
  },
  {
   "cell_type": "code",
   "execution_count": 21,
   "metadata": {
    "collapsed": false
   },
   "outputs": [
    {
     "data": {
      "text/plain": [
       "matrix([[ 1.-1.j,  2.-2.j,  3.-3.j],\n",
       "        [ 4.-4.j,  5.-5.j,  6.-6.j],\n",
       "        [ 7.-7.j,  8.-8.j,  9.-9.j]])"
      ]
     },
     "execution_count": 21,
     "metadata": {},
     "output_type": "execute_result"
    }
   ],
   "source": [
    "#conj\n",
    "import numpy as np\n",
    "G = np.matrix('1 2 3; 4 5 6; 7 8 9')\n",
    "G = G+1j*G\n",
    "np.conj(G)"
   ]
  },
  {
   "cell_type": "code",
   "execution_count": 21,
   "metadata": {
    "collapsed": false
   },
   "outputs": [
    {
     "data": {
      "text/plain": [
       "array([[ 0.,  0.,  0.],\n",
       "       [ 0.,  4.,  0.],\n",
       "       [ 0.,  0.,  8.]])"
      ]
     },
     "execution_count": 21,
     "metadata": {},
     "output_type": "execute_result"
    }
   ],
   "source": [
    "#kronecker delta for 2d-tensor\n",
    "import numpy as np\n",
    "x = np.arange(9)\n",
    "x = x.reshape((3,3))\n",
    "y = np.identity(3)\n",
    "np.multiply(x,y)"
   ]
  }
 ],
 "metadata": {
  "kernelspec": {
   "display_name": "Python 3",
   "language": "python",
   "name": "python3"
  },
  "language_info": {
   "codemirror_mode": {
    "name": "ipython",
    "version": 3
   },
   "file_extension": ".py",
   "mimetype": "text/x-python",
   "name": "python",
   "nbconvert_exporter": "python",
   "pygments_lexer": "ipython3",
   "version": "3.6.0"
  }
 },
 "nbformat": 4,
 "nbformat_minor": 2
}
